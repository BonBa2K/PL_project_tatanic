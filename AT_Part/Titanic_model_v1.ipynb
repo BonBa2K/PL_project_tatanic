{
 "cells": [
  {
   "cell_type": "markdown",
   "id": "45b95750",
   "metadata": {},
   "source": [
    "參考文章\n",
    "\n",
    "[[機器學習專案] Kaggle競賽-鐵達尼號生存預測(Top 3%)](https://yulongtsai.medium.com/https-medium-com-yulongtsai-titanic-top3-8e64741cc11f)  \n",
    "[[資料分析&機器學習] 第4.1講 : Kaggle競賽-鐵達尼號生存預測\u001e",
    "(前16%排名)](https://medium.com/jameslearningnote/%E8%B3%87%E6%96%99%E5%88%86%E6%9E%90-%E6%A9%9F%E5%99%A8%E5%AD%B8%E7%BF%92-%E7%AC%AC4-1%E8%AC%9B-kaggle%E7%AB%B6%E8%B3%BD-%E9%90%B5%E9%81%94%E5%B0%BC%E8%99%9F%E7%94%9F%E5%AD%98%E9%A0%90%E6%B8%AC-%E5%89%8D16-%E6%8E%92%E5%90%8D-a8842fea7077)  \n",
    "[Titanic - Exploratory Analysis (with PCA)](https://www.kaggle.com/code/tiagoantao/titanic-exploratory-analysis-with-pca/notebook)  \n",
    "[Airplane Crash Data Since 1908](https://www.kaggle.com/datasets/cgurkan/airplane-crash-data-since-1908)  \n",
    "[[Day 15] 機器學習常勝軍 - XGBoost](https://ithelp.ithome.com.tw/articles/10273094?sc=iThomeR)"
   ]
  },
  {
   "cell_type": "code",
   "execution_count": 164,
   "id": "f6f1367d",
   "metadata": {},
   "outputs": [],
   "source": [
    "#系統警告處理工具，了解後再使用\n",
    "import warnings\n",
    "warnings.simplefilter('ignore')"
   ]
  },
  {
   "cell_type": "code",
   "execution_count": 165,
   "id": "73792f2f",
   "metadata": {},
   "outputs": [],
   "source": [
    "#子進程相關，了解後再使用\n",
    "from subprocess import check_output\n",
    "#print(check_output([\"ls\", \"../03_topic\"]).decode(\"utf8\"))"
   ]
  },
  {
   "cell_type": "code",
   "execution_count": 3,
   "id": "92ed7b73",
   "metadata": {},
   "outputs": [],
   "source": [
    "#常用套件\n",
    "import numpy as np\n",
    "import pandas as pd\n",
    "import seaborn as sns\n",
    "import matplotlib.pyplot as plt\n",
    "\n",
    "#機器學習套件組\n",
    "from sklearn import tree\n",
    "from sklearn.decomposition import PCA\n",
    "from sklearn import preprocessing\n",
    "from sklearn.ensemble import RandomForestClassifier\n",
    "from sklearn.model_selection import cross_val_score, StratifiedKFold, learning_curve, train_test_split\n",
    "from sklearn.preprocessing import LabelEncoder\n",
    "from sklearn.feature_selection import f_regression\n",
    "from sklearn.linear_model import LinearRegression\n",
    "#統計套件組\n",
    "import statsmodels.api as sm\n",
    "from scipy import stats"
   ]
  },
  {
   "cell_type": "code",
   "execution_count": 4,
   "id": "ec50d5b3",
   "metadata": {},
   "outputs": [],
   "source": [
    "train = pd.read_csv(\"train.csv\")\n",
    "test = pd.read_csv(\"test.csv\")\n",
    "submit = pd.read_csv(\"gender_submission.csv\")"
   ]
  },
  {
   "cell_type": "code",
   "execution_count": 168,
   "id": "a9ae5e79",
   "metadata": {},
   "outputs": [
    {
     "data": {
      "text/html": [
       "<div>\n",
       "<style scoped>\n",
       "    .dataframe tbody tr th:only-of-type {\n",
       "        vertical-align: middle;\n",
       "    }\n",
       "\n",
       "    .dataframe tbody tr th {\n",
       "        vertical-align: top;\n",
       "    }\n",
       "\n",
       "    .dataframe thead th {\n",
       "        text-align: right;\n",
       "    }\n",
       "</style>\n",
       "<table border=\"1\" class=\"dataframe\">\n",
       "  <thead>\n",
       "    <tr style=\"text-align: right;\">\n",
       "      <th></th>\n",
       "      <th>PassengerId</th>\n",
       "      <th>Survived</th>\n",
       "      <th>Pclass</th>\n",
       "      <th>Name</th>\n",
       "      <th>Sex</th>\n",
       "      <th>Age</th>\n",
       "      <th>SibSp</th>\n",
       "      <th>Parch</th>\n",
       "      <th>Ticket</th>\n",
       "      <th>Fare</th>\n",
       "      <th>Cabin</th>\n",
       "      <th>Embarked</th>\n",
       "    </tr>\n",
       "  </thead>\n",
       "  <tbody>\n",
       "    <tr>\n",
       "      <th>1304</th>\n",
       "      <td>1305</td>\n",
       "      <td>NaN</td>\n",
       "      <td>3</td>\n",
       "      <td>Spector, Mr. Woolf</td>\n",
       "      <td>male</td>\n",
       "      <td>NaN</td>\n",
       "      <td>0</td>\n",
       "      <td>0</td>\n",
       "      <td>A.5. 3236</td>\n",
       "      <td>8.0500</td>\n",
       "      <td>NaN</td>\n",
       "      <td>S</td>\n",
       "    </tr>\n",
       "    <tr>\n",
       "      <th>1305</th>\n",
       "      <td>1306</td>\n",
       "      <td>NaN</td>\n",
       "      <td>1</td>\n",
       "      <td>Oliva y Ocana, Dona. Fermina</td>\n",
       "      <td>female</td>\n",
       "      <td>39.0</td>\n",
       "      <td>0</td>\n",
       "      <td>0</td>\n",
       "      <td>PC 17758</td>\n",
       "      <td>108.9000</td>\n",
       "      <td>C105</td>\n",
       "      <td>C</td>\n",
       "    </tr>\n",
       "    <tr>\n",
       "      <th>1306</th>\n",
       "      <td>1307</td>\n",
       "      <td>NaN</td>\n",
       "      <td>3</td>\n",
       "      <td>Saether, Mr. Simon Sivertsen</td>\n",
       "      <td>male</td>\n",
       "      <td>38.5</td>\n",
       "      <td>0</td>\n",
       "      <td>0</td>\n",
       "      <td>SOTON/O.Q. 3101262</td>\n",
       "      <td>7.2500</td>\n",
       "      <td>NaN</td>\n",
       "      <td>S</td>\n",
       "    </tr>\n",
       "    <tr>\n",
       "      <th>1307</th>\n",
       "      <td>1308</td>\n",
       "      <td>NaN</td>\n",
       "      <td>3</td>\n",
       "      <td>Ware, Mr. Frederick</td>\n",
       "      <td>male</td>\n",
       "      <td>NaN</td>\n",
       "      <td>0</td>\n",
       "      <td>0</td>\n",
       "      <td>359309</td>\n",
       "      <td>8.0500</td>\n",
       "      <td>NaN</td>\n",
       "      <td>S</td>\n",
       "    </tr>\n",
       "    <tr>\n",
       "      <th>1308</th>\n",
       "      <td>1309</td>\n",
       "      <td>NaN</td>\n",
       "      <td>3</td>\n",
       "      <td>Peter, Master. Michael J</td>\n",
       "      <td>male</td>\n",
       "      <td>NaN</td>\n",
       "      <td>1</td>\n",
       "      <td>1</td>\n",
       "      <td>2668</td>\n",
       "      <td>22.3583</td>\n",
       "      <td>NaN</td>\n",
       "      <td>C</td>\n",
       "    </tr>\n",
       "  </tbody>\n",
       "</table>\n",
       "</div>"
      ],
      "text/plain": [
       "      PassengerId  Survived  Pclass                          Name     Sex  \\\n",
       "1304         1305       NaN       3            Spector, Mr. Woolf    male   \n",
       "1305         1306       NaN       1  Oliva y Ocana, Dona. Fermina  female   \n",
       "1306         1307       NaN       3  Saether, Mr. Simon Sivertsen    male   \n",
       "1307         1308       NaN       3           Ware, Mr. Frederick    male   \n",
       "1308         1309       NaN       3      Peter, Master. Michael J    male   \n",
       "\n",
       "       Age  SibSp  Parch              Ticket      Fare Cabin Embarked  \n",
       "1304   NaN      0      0           A.5. 3236    8.0500   NaN        S  \n",
       "1305  39.0      0      0            PC 17758  108.9000  C105        C  \n",
       "1306  38.5      0      0  SOTON/O.Q. 3101262    7.2500   NaN        S  \n",
       "1307   NaN      0      0              359309    8.0500   NaN        S  \n",
       "1308   NaN      1      1                2668   22.3583   NaN        C  "
      ]
     },
     "execution_count": 168,
     "metadata": {},
     "output_type": "execute_result"
    }
   ],
   "source": [
    "data = pd.concat([train,test] , ignore_index = True)\n",
    "data.tail()"
   ]
  },
  {
   "cell_type": "code",
   "execution_count": 169,
   "id": "4ba85fcb",
   "metadata": {},
   "outputs": [
    {
     "name": "stdout",
     "output_type": "stream",
     "text": [
      "{'PassengerId': 0, 'Survived': 418, 'Pclass': 0, 'Name': 0, 'Sex': 0, 'Age': 263, 'SibSp': 0, 'Parch': 0, 'Ticket': 0, 'Fare': 1, 'Cabin': 1014, 'Embarked': 2}\n",
      "1309 12\n"
     ]
    }
   ],
   "source": [
    "#檢查資料的缺失狀況\n",
    "#顯示整包資料列數欄數\n",
    "nans = {}\n",
    "for colname in data.columns:\n",
    "    nans[colname] = data[data[colname].isnull()].shape[0]\n",
    "print(nans)\n",
    "print(data.shape[0],data.shape[1])\n",
    "\n",
    "#Fare跟Embarked缺失值少量可以直接抓掉，但age需要填補"
   ]
  },
  {
   "cell_type": "code",
   "execution_count": 170,
   "id": "f8841a11",
   "metadata": {},
   "outputs": [
    {
     "name": "stdout",
     "output_type": "stream",
     "text": [
      "             PassengerId  Survived    Pclass       Age     SibSp     Parch  \\\n",
      "PassengerId     1.000000 -0.005007 -0.038354  0.028814 -0.055224  0.008942   \n",
      "Survived       -0.005007  1.000000 -0.338481 -0.077221 -0.035322  0.081629   \n",
      "Pclass         -0.038354 -0.338481  1.000000 -0.408106  0.060832  0.018322   \n",
      "Age             0.028814 -0.077221 -0.408106  1.000000 -0.243699 -0.150917   \n",
      "SibSp          -0.055224 -0.035322  0.060832 -0.243699  1.000000  0.373587   \n",
      "Parch           0.008942  0.081629  0.018322 -0.150917  0.373587  1.000000   \n",
      "Fare            0.031428  0.257307 -0.558629  0.178740  0.160238  0.221539   \n",
      "\n",
      "                 Fare  \n",
      "PassengerId  0.031428  \n",
      "Survived     0.257307  \n",
      "Pclass      -0.558629  \n",
      "Age          0.178740  \n",
      "SibSp        0.160238  \n",
      "Parch        0.221539  \n",
      "Fare         1.000000  \n"
     ]
    }
   ],
   "source": [
    "print(data.corr())"
   ]
  },
  {
   "cell_type": "code",
   "execution_count": 171,
   "id": "5d35220d",
   "metadata": {},
   "outputs": [],
   "source": [
    "#對data加入欄位 倉位 年齡 家人數\n",
    "#性別代碼\n",
    "data['Sex_Code'] = data['Sex'].map({'female' : 1, 'male' : 0}).astype('int')\n",
    "\n",
    "#艙房處理：位在BCDE甲板的有較高的存活率，故建立Cbcde虛擬變數\n",
    "data['Cnum'] = data['Cabin'].str.slice(0,1)\n",
    "data['Cnum'] = data['Cnum'].fillna('ZZ')\n",
    "data['Cnum'] = data['Cnum'].replace('T','ZZ')\n",
    "data['Cbcde'] = data['Cnum'].apply(lambda x: 1 if x in ['B','C','D','E'] else 0)\n",
    "\n",
    "#家人變數\n",
    "data['Fnum'] = data['SibSp'] + data['Parch']\n",
    "data['FYN'] = data['Fnum'].apply(lambda x: min(x,1))\n",
    "data['F234'] = data['Fnum'].apply(lambda x: 1 if x in [2,3,4] else 0)\n",
    "\n",
    "#年齡變數：對小於16歲取虛擬變數\n",
    "data['A16'] = data['Age'].apply(lambda x: 1 if x < 16 else 0)\n",
    "\n",
    "#姓名首字母\n",
    "data['InName'] = data['Name'].str.slice(0,1)\n",
    "\n",
    "#艙等虛擬變數處理\n",
    "data['P1'] = data['Pclass'].apply(lambda x: 1 if x == 1 else 0)\n",
    "data['P2'] = data['Pclass'].apply(lambda x: 1 if x == 2 else 0)\n",
    "data['P3'] = data['Pclass'].apply(lambda x: 1 if x == 3 else 0)"
   ]
  },
  {
   "cell_type": "code",
   "execution_count": 172,
   "id": "f9ca9007",
   "metadata": {},
   "outputs": [
    {
     "name": "stdout",
     "output_type": "stream",
     "text": [
      "             PassengerId  Survived    Pclass       Age     SibSp     Parch  \\\n",
      "PassengerId     1.000000 -0.005007 -0.038354  0.028814 -0.055224  0.008942   \n",
      "Survived       -0.005007  1.000000 -0.338481 -0.077221 -0.035322  0.081629   \n",
      "Pclass         -0.038354 -0.338481  1.000000 -0.408106  0.060832  0.018322   \n",
      "Age             0.028814 -0.077221 -0.408106  1.000000 -0.243699 -0.150917   \n",
      "SibSp          -0.055224 -0.035322  0.060832 -0.243699  1.000000  0.373587   \n",
      "Parch           0.008942  0.081629  0.018322 -0.150917  0.373587  1.000000   \n",
      "Fare            0.031428  0.257307 -0.558629  0.178740  0.160238  0.221539   \n",
      "Sex_Code       -0.013406  0.543351 -0.124617 -0.063645  0.109609  0.213125   \n",
      "Cbcde           0.009496  0.312723 -0.706410  0.300433  0.006164  0.034543   \n",
      "Fnum           -0.031437  0.016639  0.050027 -0.240229  0.861952  0.792296   \n",
      "FYN            -0.028546  0.203367 -0.147393 -0.128755  0.591077  0.549022   \n",
      "F234            0.032949  0.168088 -0.034037 -0.167703  0.253748  0.484712   \n",
      "A16            -0.028481  0.136107  0.119508 -0.568241  0.343746  0.320391   \n",
      "P1              0.026495  0.285904 -0.884911  0.393198 -0.034256 -0.013033   \n",
      "P2              0.022714  0.093349 -0.182413 -0.014986 -0.052419 -0.010057   \n",
      "P3             -0.041544 -0.322308  0.915201 -0.337069  0.072610  0.019521   \n",
      "\n",
      "                 Fare  Sex_Code     Cbcde      Fnum       FYN      F234  \\\n",
      "PassengerId  0.031428 -0.013406  0.009496 -0.031437 -0.028546  0.032949   \n",
      "Survived     0.257307  0.543351  0.312723  0.016639  0.203367  0.168088   \n",
      "Pclass      -0.558629 -0.124617 -0.706410  0.050027 -0.147393 -0.034037   \n",
      "Age          0.178740 -0.063645  0.300433 -0.240229 -0.128755 -0.167703   \n",
      "SibSp        0.160238  0.109609  0.006164  0.861952  0.591077  0.253748   \n",
      "Parch        0.221539  0.213125  0.034543  0.792296  0.549022  0.484712   \n",
      "Fare         1.000000  0.185523  0.551510  0.226492  0.274895  0.122114   \n",
      "Sex_Code     0.185523  1.000000  0.148763  0.188583  0.284537  0.179015   \n",
      "Cbcde        0.551510  0.148763  1.000000  0.022934  0.193746  0.025462   \n",
      "Fnum         0.226492  0.188583  0.022934  1.000000  0.688864  0.431832   \n",
      "FYN          0.274895  0.284537  0.193746  0.688864  1.000000  0.560582   \n",
      "F234         0.122114  0.179015  0.025462  0.431832  0.560582  1.000000   \n",
      "A16          0.002190  0.084882 -0.094032  0.401217  0.333241  0.303252   \n",
      "P1           0.600031  0.107371  0.781534 -0.029656  0.126551 -0.010693   \n",
      "P2          -0.121384  0.028862 -0.201353 -0.039976  0.035075  0.092365   \n",
      "P3          -0.419752 -0.116562 -0.511162  0.058430 -0.138250 -0.066464   \n",
      "\n",
      "                  A16        P1        P2        P3  \n",
      "PassengerId -0.028481  0.026495  0.022714 -0.041544  \n",
      "Survived     0.136107  0.285904  0.093349 -0.322308  \n",
      "Pclass       0.119508 -0.884911 -0.182413  0.915201  \n",
      "Age         -0.568241  0.393198 -0.014986 -0.337069  \n",
      "SibSp        0.343746 -0.034256 -0.052419  0.072610  \n",
      "Parch        0.320391 -0.013033 -0.010057  0.019521  \n",
      "Fare         0.002190  0.600031 -0.121384 -0.419752  \n",
      "Sex_Code     0.084882  0.107371  0.028862 -0.116562  \n",
      "Cbcde       -0.094032  0.781534 -0.201353 -0.511162  \n",
      "Fnum         0.401217 -0.029656 -0.039976  0.058430  \n",
      "FYN          0.333241  0.126551  0.035075 -0.138250  \n",
      "F234         0.303252 -0.010693  0.092365 -0.066464  \n",
      "A16          1.000000 -0.127550  0.024212  0.090514  \n",
      "P1          -0.127550  1.000000 -0.296526 -0.622172  \n",
      "P2           0.024212 -0.296526  1.000000 -0.563180  \n",
      "P3           0.090514 -0.622172 -0.563180  1.000000  \n"
     ]
    }
   ],
   "source": [
    "print(data.corr())"
   ]
  },
  {
   "cell_type": "code",
   "execution_count": 151,
   "id": "57f67ceb",
   "metadata": {},
   "outputs": [
    {
     "name": "stdout",
     "output_type": "stream",
     "text": [
      "(1046, 23)\n",
      "(1043, 23)\n",
      "count    1043.000000\n",
      "mean       29.813202\n",
      "std        14.366254\n",
      "min         0.170000\n",
      "25%        21.000000\n",
      "50%        28.000000\n",
      "75%        39.000000\n",
      "max        80.000000\n",
      "Name: Age, dtype: float64\n"
     ]
    }
   ],
   "source": [
    "#對Age做處理，準備建模資料\n",
    "full_age = data[data['Age'].notnull()]\n",
    "print(full_age.shape)\n",
    "print(full_age.dropna(subset=['Fare', 'Embarked'],how='any').shape)\n",
    "full_age = full_age.dropna(subset=['Fare', 'Embarked'],how='any')\n",
    "#print(full_age.head())\n",
    "print(full_age['Age'].describe())"
   ]
  },
  {
   "cell_type": "code",
   "execution_count": 149,
   "id": "71c72b5f",
   "metadata": {},
   "outputs": [
    {
     "name": "stdout",
     "output_type": "stream",
     "text": [
      "                            OLS Regression Results                            \n",
      "==============================================================================\n",
      "Dep. Variable:                    Age   R-squared:                       0.224\n",
      "Model:                            OLS   Adj. R-squared:                  0.222\n",
      "Method:                 Least Squares   F-statistic:                     99.90\n",
      "Date:                Wed, 21 Dec 2022   Prob (F-statistic):           8.09e-57\n",
      "Time:                        18:29:32   Log-Likelihood:                -4126.8\n",
      "No. Observations:                1043   AIC:                             8262.\n",
      "Df Residuals:                    1039   BIC:                             8281.\n",
      "Df Model:                           3                                         \n",
      "Covariance Type:            nonrobust                                         \n",
      "==============================================================================\n",
      "                 coef    std err          t      P>|t|      [0.025      0.975]\n",
      "------------------------------------------------------------------------------\n",
      "const         48.2359      1.199     40.236      0.000      45.884      50.588\n",
      "Sex_Code      -2.5341      0.837     -3.026      0.003      -4.177      -0.891\n",
      "Pclass        -7.0601      0.473    -14.931      0.000      -7.988      -6.132\n",
      "Fnum          -2.0396      0.276     -7.400      0.000      -2.580      -1.499\n",
      "==============================================================================\n",
      "Omnibus:                       38.565   Durbin-Watson:                   1.932\n",
      "Prob(Omnibus):                  0.000   Jarque-Bera (JB):               42.063\n",
      "Skew:                           0.467   Prob(JB):                     7.35e-10\n",
      "Kurtosis:                       3.306   Cond. No.                         9.35\n",
      "==============================================================================\n",
      "\n",
      "Notes:\n",
      "[1] Standard Errors assume that the covariance matrix of the errors is correctly specified.\n"
     ]
    },
    {
     "name": "stderr",
     "output_type": "stream",
     "text": [
      "/opt/anaconda3/lib/python3.9/site-packages/statsmodels/tsa/tsatools.py:142: FutureWarning: In a future version of pandas all arguments of concat except for the argument 'objs' will be keyword-only\n",
      "  x = pd.concat(x[::order], 1)\n"
     ]
    },
    {
     "data": {
      "text/plain": [
       "'\\nmodel = LinearRegression()\\nmodel.fit(x,y)\\npredict = model.predict(x)\\n#plt.plot(x,predict,c=\"red\")\\n#plt.scatter(x,y)\\n#plt.show()\\n#print(x,y)\\n\\nmse = np.mean((model.predict(x) - y) ** 2)\\nr_squared = model.score(x, y)\\nadj_r_squared = r_squared - (1 - r_squared) * (x.shape[1] / (x.shape[0] - x.shape[1] - 1))\\n\\n# 印出模型績效\\nprint(mse)\\nprint(r_squared)\\nprint(adj_r_squared)\\nprint(f_regression(x, y)[1])'"
      ]
     },
     "execution_count": 149,
     "metadata": {},
     "output_type": "execute_result"
    }
   ],
   "source": [
    "#考慮使用其他因子對年齡做預測\n",
    "#解釋力不足，不與使用\n",
    "#程式碼留存\n",
    "x = full_age[['Sex_Code','Pclass','Fnum']]\n",
    "y = full_age['Age']\n",
    "#x = sm.add_constant(x)\n",
    "\n",
    "X2 = sm.add_constant(x)\n",
    "est = sm.OLS(y, X2)\n",
    "est2 = est.fit()\n",
    "print(est2.summary())\n",
    "\n",
    "'''\n",
    "model = LinearRegression()\n",
    "model.fit(x,y)\n",
    "predict = model.predict(x)\n",
    "#plt.plot(x,predict,c=\"red\")\n",
    "#plt.scatter(x,y)\n",
    "#plt.show()\n",
    "#print(x,y)\n",
    "\n",
    "mse = np.mean((model.predict(x) - y) ** 2)\n",
    "r_squared = model.score(x, y)\n",
    "adj_r_squared = r_squared - (1 - r_squared) * (x.shape[1] / (x.shape[0] - x.shape[1] - 1))\n",
    "\n",
    "# 印出模型績效\n",
    "print(mse)\n",
    "print(r_squared)\n",
    "print(adj_r_squared)\n",
    "print(f_regression(x, y)[1])'''"
   ]
  },
  {
   "cell_type": "code",
   "execution_count": 179,
   "id": "f9b7d1ca",
   "metadata": {},
   "outputs": [
    {
     "name": "stdout",
     "output_type": "stream",
     "text": [
      "30.0 14.4542\n"
     ]
    }
   ],
   "source": [
    "#print(data['Age'].describe())\n",
    "#print(data['Fare'].describe())\n",
    "#print(data['Embarked'].describe())\n",
    "print(data['Age'].median(),data['Fare'].median())"
   ]
  },
  {
   "cell_type": "code",
   "execution_count": 180,
   "id": "e0cce9ca",
   "metadata": {},
   "outputs": [
    {
     "name": "stdout",
     "output_type": "stream",
     "text": [
      "{'PassengerId': 0, 'Survived': 418, 'Pclass': 0, 'Name': 0, 'Sex': 0, 'Age': 0, 'SibSp': 0, 'Parch': 0, 'Ticket': 0, 'Fare': 0, 'Cabin': 1014, 'Embarked': 0, 'Sex_Code': 0, 'Cnum': 0, 'Cbcde': 0, 'Fnum': 0, 'FYN': 0, 'F234': 0, 'A16': 0, 'InName': 0, 'P1': 0, 'P2': 0, 'P3': 0}\n"
     ]
    }
   ],
   "source": [
    "#直接對Age填入中位數，測試使用fillna\n",
    "data['Age'].fillna(value=30, inplace=True)\n",
    "data['Fare'].fillna(value=14.45, inplace=True)\n",
    "data['Embarked'].fillna(value='S', inplace=True)\n",
    "nans = {}\n",
    "for colname in data.columns:\n",
    "    nans[colname] = data[data[colname].isnull()].shape[0]\n",
    "print(nans)"
   ]
  },
  {
   "cell_type": "code",
   "execution_count": 181,
   "id": "0001e1cb",
   "metadata": {},
   "outputs": [
    {
     "data": {
      "text/html": [
       "<div>\n",
       "<style scoped>\n",
       "    .dataframe tbody tr th:only-of-type {\n",
       "        vertical-align: middle;\n",
       "    }\n",
       "\n",
       "    .dataframe tbody tr th {\n",
       "        vertical-align: top;\n",
       "    }\n",
       "\n",
       "    .dataframe thead th {\n",
       "        text-align: right;\n",
       "    }\n",
       "</style>\n",
       "<table border=\"1\" class=\"dataframe\">\n",
       "  <thead>\n",
       "    <tr style=\"text-align: right;\">\n",
       "      <th></th>\n",
       "      <th>PassengerId</th>\n",
       "      <th>Survived</th>\n",
       "      <th>Pclass</th>\n",
       "      <th>Name</th>\n",
       "      <th>Sex</th>\n",
       "      <th>Age</th>\n",
       "      <th>SibSp</th>\n",
       "      <th>Parch</th>\n",
       "      <th>Ticket</th>\n",
       "      <th>Fare</th>\n",
       "      <th>...</th>\n",
       "      <th>Cnum</th>\n",
       "      <th>Cbcde</th>\n",
       "      <th>Fnum</th>\n",
       "      <th>FYN</th>\n",
       "      <th>F234</th>\n",
       "      <th>A16</th>\n",
       "      <th>InName</th>\n",
       "      <th>P1</th>\n",
       "      <th>P2</th>\n",
       "      <th>P3</th>\n",
       "    </tr>\n",
       "  </thead>\n",
       "  <tbody>\n",
       "    <tr>\n",
       "      <th>891</th>\n",
       "      <td>892</td>\n",
       "      <td>NaN</td>\n",
       "      <td>3</td>\n",
       "      <td>Kelly, Mr. James</td>\n",
       "      <td>male</td>\n",
       "      <td>34.5</td>\n",
       "      <td>0</td>\n",
       "      <td>0</td>\n",
       "      <td>330911</td>\n",
       "      <td>7.8292</td>\n",
       "      <td>...</td>\n",
       "      <td>ZZ</td>\n",
       "      <td>0</td>\n",
       "      <td>0</td>\n",
       "      <td>0</td>\n",
       "      <td>0</td>\n",
       "      <td>0</td>\n",
       "      <td>K</td>\n",
       "      <td>0</td>\n",
       "      <td>0</td>\n",
       "      <td>1</td>\n",
       "    </tr>\n",
       "    <tr>\n",
       "      <th>892</th>\n",
       "      <td>893</td>\n",
       "      <td>NaN</td>\n",
       "      <td>3</td>\n",
       "      <td>Wilkes, Mrs. James (Ellen Needs)</td>\n",
       "      <td>female</td>\n",
       "      <td>47.0</td>\n",
       "      <td>1</td>\n",
       "      <td>0</td>\n",
       "      <td>363272</td>\n",
       "      <td>7.0000</td>\n",
       "      <td>...</td>\n",
       "      <td>ZZ</td>\n",
       "      <td>0</td>\n",
       "      <td>1</td>\n",
       "      <td>1</td>\n",
       "      <td>0</td>\n",
       "      <td>0</td>\n",
       "      <td>W</td>\n",
       "      <td>0</td>\n",
       "      <td>0</td>\n",
       "      <td>1</td>\n",
       "    </tr>\n",
       "    <tr>\n",
       "      <th>893</th>\n",
       "      <td>894</td>\n",
       "      <td>NaN</td>\n",
       "      <td>2</td>\n",
       "      <td>Myles, Mr. Thomas Francis</td>\n",
       "      <td>male</td>\n",
       "      <td>62.0</td>\n",
       "      <td>0</td>\n",
       "      <td>0</td>\n",
       "      <td>240276</td>\n",
       "      <td>9.6875</td>\n",
       "      <td>...</td>\n",
       "      <td>ZZ</td>\n",
       "      <td>0</td>\n",
       "      <td>0</td>\n",
       "      <td>0</td>\n",
       "      <td>0</td>\n",
       "      <td>0</td>\n",
       "      <td>M</td>\n",
       "      <td>0</td>\n",
       "      <td>1</td>\n",
       "      <td>0</td>\n",
       "    </tr>\n",
       "  </tbody>\n",
       "</table>\n",
       "<p>3 rows × 23 columns</p>\n",
       "</div>"
      ],
      "text/plain": [
       "     PassengerId  Survived  Pclass                              Name     Sex  \\\n",
       "891          892       NaN       3                  Kelly, Mr. James    male   \n",
       "892          893       NaN       3  Wilkes, Mrs. James (Ellen Needs)  female   \n",
       "893          894       NaN       2         Myles, Mr. Thomas Francis    male   \n",
       "\n",
       "      Age  SibSp  Parch  Ticket    Fare  ... Cnum Cbcde  Fnum FYN  F234  A16  \\\n",
       "891  34.5      0      0  330911  7.8292  ...   ZZ     0     0   0     0    0   \n",
       "892  47.0      1      0  363272  7.0000  ...   ZZ     0     1   1     0    0   \n",
       "893  62.0      0      0  240276  9.6875  ...   ZZ     0     0   0     0    0   \n",
       "\n",
       "     InName  P1  P2 P3  \n",
       "891       K   0   0  1  \n",
       "892       W   0   0  1  \n",
       "893       M   0   1  0  \n",
       "\n",
       "[3 rows x 23 columns]"
      ]
     },
     "execution_count": 181,
     "metadata": {},
     "output_type": "execute_result"
    }
   ],
   "source": [
    "# split training set the testing set\n",
    "train = data[:len(train)]\n",
    "test = data[len(train):]\n",
    "test.head(3)"
   ]
  },
  {
   "cell_type": "code",
   "execution_count": 182,
   "id": "07f21cd1",
   "metadata": {},
   "outputs": [
    {
     "data": {
      "text/plain": [
       "342.0"
      ]
     },
     "execution_count": 182,
     "metadata": {},
     "output_type": "execute_result"
    }
   ],
   "source": [
    "train['Survived'].sum()"
   ]
  },
  {
   "cell_type": "code",
   "execution_count": 41,
   "id": "6e352e2b",
   "metadata": {},
   "outputs": [],
   "source": [
    "#for i in ['Sex_Code','Pclass','Cbcde','Fnum','A16','Embarked','Cnum']:\n",
    "#    pvt1 = train.pivot_table(values='PassengerId',index=i, columns='Survived',\n",
    "#                            aggfunc={'PassengerId':np.count_nonzero})\n",
    "#    pvt2 = train.pivot_table(values='PassengerId',index=i, #columns='Survived',\n",
    "#                            aggfunc={'PassengerId':np.count_nonzero})\n",
    "#    print(pvt1,pvt2)"
   ]
  },
  {
   "cell_type": "code",
   "execution_count": 6,
   "id": "f192a7dd",
   "metadata": {},
   "outputs": [
    {
     "data": {
      "text/html": [
       "<div>\n",
       "<style scoped>\n",
       "    .dataframe tbody tr th:only-of-type {\n",
       "        vertical-align: middle;\n",
       "    }\n",
       "\n",
       "    .dataframe tbody tr th {\n",
       "        vertical-align: top;\n",
       "    }\n",
       "\n",
       "    .dataframe thead th {\n",
       "        text-align: right;\n",
       "    }\n",
       "</style>\n",
       "<table border=\"1\" class=\"dataframe\">\n",
       "  <thead>\n",
       "    <tr style=\"text-align: right;\">\n",
       "      <th></th>\n",
       "      <th>sum</th>\n",
       "      <th>count</th>\n",
       "      <th>rate</th>\n",
       "    </tr>\n",
       "    <tr>\n",
       "      <th>Pclass</th>\n",
       "      <th></th>\n",
       "      <th></th>\n",
       "      <th></th>\n",
       "    </tr>\n",
       "  </thead>\n",
       "  <tbody>\n",
       "    <tr>\n",
       "      <th>1</th>\n",
       "      <td>136</td>\n",
       "      <td>216</td>\n",
       "      <td>0.629630</td>\n",
       "    </tr>\n",
       "    <tr>\n",
       "      <th>2</th>\n",
       "      <td>87</td>\n",
       "      <td>184</td>\n",
       "      <td>0.472826</td>\n",
       "    </tr>\n",
       "    <tr>\n",
       "      <th>3</th>\n",
       "      <td>119</td>\n",
       "      <td>491</td>\n",
       "      <td>0.242363</td>\n",
       "    </tr>\n",
       "  </tbody>\n",
       "</table>\n",
       "</div>"
      ],
      "text/plain": [
       "        sum  count      rate\n",
       "Pclass                      \n",
       "1       136    216  0.629630\n",
       "2        87    184  0.472826\n",
       "3       119    491  0.242363"
      ]
     },
     "execution_count": 6,
     "metadata": {},
     "output_type": "execute_result"
    }
   ],
   "source": [
    "#製作簡易的因子影響存活率分析表格，程式碼留存\n",
    "#改factor就可以觀察不同因子\n",
    "factor = 'Pclass'\n",
    "\n",
    "sex_group = train[[factor, 'Survived']].groupby(factor)\n",
    "sex_agg = sex_group.agg(['sum', 'count'])['Survived']\n",
    "sex_agg['rate'] = sex_agg.apply(lambda row: row['sum'] / row['count'], axis=1)\n",
    "sex_agg"
   ]
  },
  {
   "cell_type": "code",
   "execution_count": 157,
   "id": "4203ad42",
   "metadata": {},
   "outputs": [],
   "source": [
    "### 以下開始進行建模\n",
    "X = train.drop(labels=['Survived','PassengerId'],axis=1)\n",
    "Y = train['Survived']"
   ]
  },
  {
   "cell_type": "code",
   "execution_count": 158,
   "id": "f9ff05de",
   "metadata": {},
   "outputs": [
    {
     "name": "stdout",
     "output_type": "stream",
     "text": [
      "Base oob score :0.82267\n"
     ]
    }
   ],
   "source": [
    "# Show Baseline\n",
    "Base = ['Sex_Code','Pclass','Cbcde','Fnum','A16']\n",
    "Base_Model = RandomForestClassifier(random_state=2,n_estimators=250,min_samples_split=20,oob_score=True)\n",
    "Base_Model.fit(X[Base], Y)\n",
    "print('Base oob score :%.5f' %(Base_Model.oob_score_))"
   ]
  },
  {
   "cell_type": "code",
   "execution_count": 159,
   "id": "d02286dc",
   "metadata": {},
   "outputs": [],
   "source": [
    "# 第三次提交：達到29%\n",
    "# submission if you want\n",
    "# submits\n",
    "X_Submit = test.drop(labels=['PassengerId'],axis=1)\n",
    "\n",
    "Base_pred = Base_Model.predict(X_Submit[Base])\n",
    "\n",
    "submit = pd.DataFrame({\"PassengerId\": test['PassengerId'],\n",
    "                      \"Survived\":Base_pred.astype(int)})\n",
    "submit.to_csv(\"submit_forest4.csv\",index=False)"
   ]
  },
  {
   "cell_type": "code",
   "execution_count": 91,
   "id": "df95ef5b",
   "metadata": {},
   "outputs": [
    {
     "ename": "FileNotFoundError",
     "evalue": "[Errno 2] No such file or directory: 'dot'",
     "output_type": "error",
     "traceback": [
      "\u001b[0;31m---------------------------------------------------------------------------\u001b[0m",
      "\u001b[0;31mFileNotFoundError\u001b[0m                         Traceback (most recent call last)",
      "\u001b[0;32m/var/folders/k_/2r9gfk5j0fbc0l7wptv_v2jc0000gn/T/ipykernel_33754/4186500413.py\u001b[0m in \u001b[0;36m<module>\u001b[0;34m\u001b[0m\n\u001b[1;32m      8\u001b[0m \u001b[0;31m# 用系統命令轉為PNG文件(需要 Graphviz)\u001b[0m\u001b[0;34m\u001b[0m\u001b[0;34m\u001b[0m\u001b[0m\n\u001b[1;32m      9\u001b[0m \u001b[0;32mfrom\u001b[0m \u001b[0msubprocess\u001b[0m \u001b[0;32mimport\u001b[0m \u001b[0mcall\u001b[0m\u001b[0;34m\u001b[0m\u001b[0;34m\u001b[0m\u001b[0m\n\u001b[0;32m---> 10\u001b[0;31m \u001b[0mcall\u001b[0m\u001b[0;34m(\u001b[0m\u001b[0;34m[\u001b[0m\u001b[0;34m'dot'\u001b[0m\u001b[0;34m,\u001b[0m \u001b[0;34m'-Tpng'\u001b[0m\u001b[0;34m,\u001b[0m \u001b[0;34m'tree.dot'\u001b[0m\u001b[0;34m,\u001b[0m \u001b[0;34m'-o'\u001b[0m\u001b[0;34m,\u001b[0m \u001b[0;34m'tree.png'\u001b[0m\u001b[0;34m,\u001b[0m \u001b[0;34m'-Gdpi=600'\u001b[0m\u001b[0;34m]\u001b[0m\u001b[0;34m)\u001b[0m\u001b[0;34m\u001b[0m\u001b[0;34m\u001b[0m\u001b[0m\n\u001b[0m\u001b[1;32m     11\u001b[0m \u001b[0;31m# 在jupyter notebook中展示\u001b[0m\u001b[0;34m\u001b[0m\u001b[0;34m\u001b[0m\u001b[0m\n\u001b[1;32m     12\u001b[0m \u001b[0;32mfrom\u001b[0m \u001b[0mIPython\u001b[0m\u001b[0;34m.\u001b[0m\u001b[0mdisplay\u001b[0m \u001b[0;32mimport\u001b[0m \u001b[0mImage\u001b[0m\u001b[0;34m\u001b[0m\u001b[0;34m\u001b[0m\u001b[0m\n",
      "\u001b[0;32m/opt/anaconda3/lib/python3.9/subprocess.py\u001b[0m in \u001b[0;36mcall\u001b[0;34m(timeout, *popenargs, **kwargs)\u001b[0m\n\u001b[1;32m    347\u001b[0m     \u001b[0mretcode\u001b[0m \u001b[0;34m=\u001b[0m \u001b[0mcall\u001b[0m\u001b[0;34m(\u001b[0m\u001b[0;34m[\u001b[0m\u001b[0;34m\"ls\"\u001b[0m\u001b[0;34m,\u001b[0m \u001b[0;34m\"-l\"\u001b[0m\u001b[0;34m]\u001b[0m\u001b[0;34m)\u001b[0m\u001b[0;34m\u001b[0m\u001b[0;34m\u001b[0m\u001b[0m\n\u001b[1;32m    348\u001b[0m     \"\"\"\n\u001b[0;32m--> 349\u001b[0;31m     \u001b[0;32mwith\u001b[0m \u001b[0mPopen\u001b[0m\u001b[0;34m(\u001b[0m\u001b[0;34m*\u001b[0m\u001b[0mpopenargs\u001b[0m\u001b[0;34m,\u001b[0m \u001b[0;34m**\u001b[0m\u001b[0mkwargs\u001b[0m\u001b[0;34m)\u001b[0m \u001b[0;32mas\u001b[0m \u001b[0mp\u001b[0m\u001b[0;34m:\u001b[0m\u001b[0;34m\u001b[0m\u001b[0;34m\u001b[0m\u001b[0m\n\u001b[0m\u001b[1;32m    350\u001b[0m         \u001b[0;32mtry\u001b[0m\u001b[0;34m:\u001b[0m\u001b[0;34m\u001b[0m\u001b[0;34m\u001b[0m\u001b[0m\n\u001b[1;32m    351\u001b[0m             \u001b[0;32mreturn\u001b[0m \u001b[0mp\u001b[0m\u001b[0;34m.\u001b[0m\u001b[0mwait\u001b[0m\u001b[0;34m(\u001b[0m\u001b[0mtimeout\u001b[0m\u001b[0;34m=\u001b[0m\u001b[0mtimeout\u001b[0m\u001b[0;34m)\u001b[0m\u001b[0;34m\u001b[0m\u001b[0;34m\u001b[0m\u001b[0m\n",
      "\u001b[0;32m/opt/anaconda3/lib/python3.9/subprocess.py\u001b[0m in \u001b[0;36m__init__\u001b[0;34m(self, args, bufsize, executable, stdin, stdout, stderr, preexec_fn, close_fds, shell, cwd, env, universal_newlines, startupinfo, creationflags, restore_signals, start_new_session, pass_fds, user, group, extra_groups, encoding, errors, text, umask)\u001b[0m\n\u001b[1;32m    949\u001b[0m                             encoding=encoding, errors=errors)\n\u001b[1;32m    950\u001b[0m \u001b[0;34m\u001b[0m\u001b[0m\n\u001b[0;32m--> 951\u001b[0;31m             self._execute_child(args, executable, preexec_fn, close_fds,\n\u001b[0m\u001b[1;32m    952\u001b[0m                                 \u001b[0mpass_fds\u001b[0m\u001b[0;34m,\u001b[0m \u001b[0mcwd\u001b[0m\u001b[0;34m,\u001b[0m \u001b[0menv\u001b[0m\u001b[0;34m,\u001b[0m\u001b[0;34m\u001b[0m\u001b[0;34m\u001b[0m\u001b[0m\n\u001b[1;32m    953\u001b[0m                                 \u001b[0mstartupinfo\u001b[0m\u001b[0;34m,\u001b[0m \u001b[0mcreationflags\u001b[0m\u001b[0;34m,\u001b[0m \u001b[0mshell\u001b[0m\u001b[0;34m,\u001b[0m\u001b[0;34m\u001b[0m\u001b[0;34m\u001b[0m\u001b[0m\n",
      "\u001b[0;32m/opt/anaconda3/lib/python3.9/subprocess.py\u001b[0m in \u001b[0;36m_execute_child\u001b[0;34m(self, args, executable, preexec_fn, close_fds, pass_fds, cwd, env, startupinfo, creationflags, shell, p2cread, p2cwrite, c2pread, c2pwrite, errread, errwrite, restore_signals, gid, gids, uid, umask, start_new_session)\u001b[0m\n\u001b[1;32m   1819\u001b[0m                     \u001b[0;32mif\u001b[0m \u001b[0merrno_num\u001b[0m \u001b[0;34m!=\u001b[0m \u001b[0;36m0\u001b[0m\u001b[0;34m:\u001b[0m\u001b[0;34m\u001b[0m\u001b[0;34m\u001b[0m\u001b[0m\n\u001b[1;32m   1820\u001b[0m                         \u001b[0merr_msg\u001b[0m \u001b[0;34m=\u001b[0m \u001b[0mos\u001b[0m\u001b[0;34m.\u001b[0m\u001b[0mstrerror\u001b[0m\u001b[0;34m(\u001b[0m\u001b[0merrno_num\u001b[0m\u001b[0;34m)\u001b[0m\u001b[0;34m\u001b[0m\u001b[0;34m\u001b[0m\u001b[0m\n\u001b[0;32m-> 1821\u001b[0;31m                     \u001b[0;32mraise\u001b[0m \u001b[0mchild_exception_type\u001b[0m\u001b[0;34m(\u001b[0m\u001b[0merrno_num\u001b[0m\u001b[0;34m,\u001b[0m \u001b[0merr_msg\u001b[0m\u001b[0;34m,\u001b[0m \u001b[0merr_filename\u001b[0m\u001b[0;34m)\u001b[0m\u001b[0;34m\u001b[0m\u001b[0;34m\u001b[0m\u001b[0m\n\u001b[0m\u001b[1;32m   1822\u001b[0m                 \u001b[0;32mraise\u001b[0m \u001b[0mchild_exception_type\u001b[0m\u001b[0;34m(\u001b[0m\u001b[0merr_msg\u001b[0m\u001b[0;34m)\u001b[0m\u001b[0;34m\u001b[0m\u001b[0;34m\u001b[0m\u001b[0m\n\u001b[1;32m   1823\u001b[0m \u001b[0;34m\u001b[0m\u001b[0m\n",
      "\u001b[0;31mFileNotFoundError\u001b[0m: [Errno 2] No such file or directory: 'dot'"
     ]
    }
   ],
   "source": [
    "# 嘗試對決策樹視覺化，失敗，程式碼留存\n",
    "# 提取一個決策樹\n",
    "estimator = Base_Model.estimators_[0]\n",
    "from sklearn.tree import export_graphviz\n",
    "# 導出為dot 文件\n",
    "export_graphviz(estimator, out_file='tree.dot', \n",
    "                feature_names = Base, class_names = \"Survived\", \n",
    "                rounded = True, proportion = False, precision = 2, filled = True) \n",
    "# 用系統命令轉為PNG文件(需要 Graphviz) \n",
    "from subprocess import call\n",
    "call(['dot', '-Tpng', 'tree.dot', '-o', 'tree.png', '-Gdpi=600']) \n",
    "# 在jupyter notebook中展示 \n",
    "from IPython.display import Image\n",
    "Image(filename = 'tree.png')"
   ]
  },
  {
   "cell_type": "code",
   "execution_count": 24,
   "id": "8a15e7d1",
   "metadata": {},
   "outputs": [],
   "source": [
    "#讀取已經製作好的生存對照表基底\n",
    "surv_base = pd.read_csv(\"survival_table_base.csv\")"
   ]
  },
  {
   "cell_type": "code",
   "execution_count": 25,
   "id": "846a50ee",
   "metadata": {},
   "outputs": [
    {
     "name": "stdout",
     "output_type": "stream",
     "text": [
      "1026.0\n"
     ]
    }
   ],
   "source": [
    "#產出生存對照表\n",
    "surv_table = surv_base\n",
    "surv_table[\"Survived\"] = Base_Model.predict(surv_table[Base])\n",
    "surv_table.to_csv(\"surv_table_v1.csv\",index=False)"
   ]
  },
  {
   "cell_type": "code",
   "execution_count": 26,
   "id": "4f4c718f",
   "metadata": {},
   "outputs": [
    {
     "name": "stdout",
     "output_type": "stream",
     "text": [
      "1026.0 1260 17\n"
     ]
    }
   ],
   "source": [
    "#檢視生存對照表生存狀況\n",
    "print(surv_table[\"Survived\"].sum(),surv_table.shape[0],surv_table.shape[1])"
   ]
  },
  {
   "cell_type": "code",
   "execution_count": 219,
   "id": "1f8c0182",
   "metadata": {},
   "outputs": [
    {
     "name": "stdout",
     "output_type": "stream",
     "text": [
      "訓練集:  0.9551066217732884\n"
     ]
    }
   ],
   "source": [
    "#嘗試其他建模方法：XGBOOST\n",
    "xg_base = ['Age', 'Fare', 'Sex_Code', 'Pclass', 'Cbcde']\n",
    "\n",
    "train_X = train[xg_base]\n",
    "train_Y = train.Survived\n",
    "\n",
    "#!pip install xgboost\n",
    "from xgboost import XGBClassifier\n",
    "\n",
    "# 建立 XGBClassifier 模型\n",
    "xgboostModel = XGBClassifier(n_estimators=100, learning_rate= 0.3)\n",
    "# 使用訓練資料訓練模型\n",
    "xgboostModel.fit(train_X, train_Y)\n",
    "# 使用訓練資料預測分類\n",
    "predicted = xgboostModel.predict(train_X)\n",
    "\n",
    "# 預測成功的比例\n",
    "print('訓練集: ',xgboostModel.score(train_X,train_Y))"
   ]
  },
  {
   "cell_type": "code",
   "execution_count": 220,
   "id": "e1dac3e9",
   "metadata": {},
   "outputs": [],
   "source": [
    "# 第四次提交：XGBOOST\n",
    "# 成績稍微低於隨機森林\n",
    "# submission if you want\n",
    "# submits\n",
    "X_Submit = test.drop(labels=['PassengerId'],axis=1)\n",
    "\n",
    "Base_pred = xgboostModel.predict(X_Submit[xg_base])\n",
    "\n",
    "submit = pd.DataFrame({\"PassengerId\": test['PassengerId'],\n",
    "                      \"Survived\":Base_pred.astype(int)})\n",
    "submit.to_csv(\"submit_xg1.csv\",index=False)"
   ]
  }
 ],
 "metadata": {
  "kernelspec": {
   "display_name": "Python 3 (ipykernel)",
   "language": "python",
   "name": "python3"
  },
  "language_info": {
   "codemirror_mode": {
    "name": "ipython",
    "version": 3
   },
   "file_extension": ".py",
   "mimetype": "text/x-python",
   "name": "python",
   "nbconvert_exporter": "python",
   "pygments_lexer": "ipython3",
   "version": "3.9.7"
  }
 },
 "nbformat": 4,
 "nbformat_minor": 5
}
